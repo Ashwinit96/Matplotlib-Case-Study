{
 "cells": [
  {
   "cell_type": "markdown",
   "metadata": {},
   "source": [
    "# Import Libraries "
   ]
  },
  {
   "cell_type": "code",
   "execution_count": 24,
   "metadata": {},
   "outputs": [],
   "source": [
    "import pandas as pd\n",
    "import matplotlib.pyplot as plt"
   ]
  },
  {
   "cell_type": "markdown",
   "metadata": {},
   "source": [
    "# Read Data Set"
   ]
  },
  {
   "cell_type": "code",
   "execution_count": 2,
   "metadata": {},
   "outputs": [],
   "source": [
    "import pandas as pd\n",
    "company_sales=pd.read_csv(\"company_sales_data.csv\")"
   ]
  },
  {
   "cell_type": "markdown",
   "metadata": {},
   "source": [
    "1. Check 1st five rows (1 marks)\n",
    "2. Check last five rows (1 marks)\n",
    "3. Check Statistical info of data (1 Marks)\n",
    "4. Check Total Size of Data (1 marks)\n",
    "5. Check various Datatype (1 marks)"
   ]
  },
  {
   "cell_type": "markdown",
   "metadata": {},
   "source": [
    "Solution:- "
   ]
  },
  {
   "cell_type": "code",
   "execution_count": 3,
   "metadata": {},
   "outputs": [
    {
     "name": "stdout",
     "output_type": "stream",
     "text": [
      "   month_number  facecream  facewash  toothpaste  bathingsoap  shampoo  \\\n",
      "0             1       2500      1500        5200         9200     1200   \n",
      "1             2       2630      1200        5100         6100     2100   \n",
      "2             3       2140      1340        4550         9550     3550   \n",
      "3             4       3400      1130        5870         8870     1870   \n",
      "4             5       3600      1740        4560         7760     1560   \n",
      "\n",
      "   moisturizer  total_units  total_profit  \n",
      "0         1500        21100        211000  \n",
      "1         1200        18330        183300  \n",
      "2         1340        22470        224700  \n",
      "3         1130        22270        222700  \n",
      "4         1740        20960        209600  \n"
     ]
    }
   ],
   "source": [
    "print(company_sales.head())"
   ]
  },
  {
   "cell_type": "code",
   "execution_count": 4,
   "metadata": {},
   "outputs": [
    {
     "name": "stdout",
     "output_type": "stream",
     "text": [
      "    month_number  facecream  facewash  toothpaste  bathingsoap  shampoo  \\\n",
      "7              8       3700      1400        5860         9960     2860   \n",
      "8              9       3540      1780        6100         8100     2100   \n",
      "9             10       1990      1890        8300        10300     2300   \n",
      "10            11       2340      2100        7300        13300     2400   \n",
      "11            12       2900      1760        7400        14400     1800   \n",
      "\n",
      "    moisturizer  total_units  total_profit  \n",
      "7          1400        36140        361400  \n",
      "8          1780        23400        234000  \n",
      "9          1890        26670        266700  \n",
      "10         2100        41280        412800  \n",
      "11         1760        30020        300200  \n"
     ]
    }
   ],
   "source": [
    "print(company_sales.tail())"
   ]
  },
  {
   "cell_type": "code",
   "execution_count": 5,
   "metadata": {},
   "outputs": [
    {
     "name": "stdout",
     "output_type": "stream",
     "text": [
      "<class 'pandas.core.frame.DataFrame'>\n",
      "RangeIndex: 12 entries, 0 to 11\n",
      "Data columns (total 9 columns):\n",
      " #   Column        Non-Null Count  Dtype\n",
      "---  ------        --------------  -----\n",
      " 0   month_number  12 non-null     int64\n",
      " 1   facecream     12 non-null     int64\n",
      " 2   facewash      12 non-null     int64\n",
      " 3   toothpaste    12 non-null     int64\n",
      " 4   bathingsoap   12 non-null     int64\n",
      " 5   shampoo       12 non-null     int64\n",
      " 6   moisturizer   12 non-null     int64\n",
      " 7   total_units   12 non-null     int64\n",
      " 8   total_profit  12 non-null     int64\n",
      "dtypes: int64(9)\n",
      "memory usage: 992.0 bytes\n",
      "None\n"
     ]
    }
   ],
   "source": [
    "print(company_sales.info())"
   ]
  },
  {
   "cell_type": "code",
   "execution_count": 13,
   "metadata": {},
   "outputs": [
    {
     "data": {
      "text/plain": [
       "108"
      ]
     },
     "execution_count": 13,
     "metadata": {},
     "output_type": "execute_result"
    }
   ],
   "source": [
    "company_sales.size"
   ]
  },
  {
   "cell_type": "code",
   "execution_count": 12,
   "metadata": {},
   "outputs": [
    {
     "data": {
      "text/plain": [
       "month_number    int64\n",
       "facecream       int64\n",
       "facewash        int64\n",
       "toothpaste      int64\n",
       "bathingsoap     int64\n",
       "shampoo         int64\n",
       "moisturizer     int64\n",
       "total_units     int64\n",
       "total_profit    int64\n",
       "dtype: object"
      ]
     },
     "execution_count": 12,
     "metadata": {},
     "output_type": "execute_result"
    }
   ],
   "source": [
    "company_sales.dtypes"
   ]
  },
  {
   "cell_type": "markdown",
   "metadata": {},
   "source": [
    "# Visualization using Matplotlib "
   ]
  },
  {
   "cell_type": "markdown",
   "metadata": {},
   "source": [
    "A) Line Plot "
   ]
  },
  {
   "cell_type": "markdown",
   "metadata": {},
   "source": [
    "1.Plot a line plot showing  total profit of all months, \n",
    "\n",
    "X label name = Month Number\n",
    "Y label name = Total profit                         -( 5 marks)"
   ]
  },
  {
   "cell_type": "code",
   "execution_count": 14,
   "metadata": {
    "scrolled": true
   },
   "outputs": [
    {
     "name": "stdout",
     "output_type": "stream",
     "text": [
      "   month_number  facecream  facewash  toothpaste  bathingsoap  shampoo  \\\n",
      "0             1       2500      1500        5200         9200     1200   \n",
      "1             2       2630      1200        5100         6100     2100   \n",
      "2             3       2140      1340        4550         9550     3550   \n",
      "3             4       3400      1130        5870         8870     1870   \n",
      "4             5       3600      1740        4560         7760     1560   \n",
      "\n",
      "   moisturizer  total_units  total_profit  \n",
      "0         1500        21100        211000  \n",
      "1         1200        18330        183300  \n",
      "2         1340        22470        224700  \n",
      "3         1130        22270        222700  \n",
      "4         1740        20960        209600  \n"
     ]
    }
   ],
   "source": [
    "print(company_sales.head())"
   ]
  },
  {
   "cell_type": "code",
   "execution_count": 25,
   "metadata": {},
   "outputs": [
    {
     "data": {
      "image/png": "[encoded data removed]",
      "text/plain": [
       "<Figure size 432x288 with 1 Axes>"
      ]
     },
     "metadata": {
      "needs_background": "light"
     },
     "output_type": "display_data"
    }
   ],
   "source": [
    "tp=company_sales.plot(x=\"month_number\",y=\"total_profit\",kind=\"line\")\n",
    "tp.set_xlabel(\"Month Number\")\n",
    "tp.set_ylabel(\"Total profit\")\n",
    "plt.show()"
   ]
  },
  {
   "cell_type": "markdown",
   "metadata": {},
   "source": [
    "B) Bar Plot"
   ]
  },
  {
   "cell_type": "markdown",
   "metadata": {},
   "source": [
    "2) Read sales data of bathing soap of all months and show it using a bar chart\n",
    "\n",
    "X label name = Month Number\n",
    "\n",
    "Y label name = Sale in No \n",
    "\n",
    "Title = Bathing soap Sale Data -( 5 marks)"
   ]
  },
  {
   "cell_type": "code",
   "execution_count": 26,
   "metadata": {
    "scrolled": true
   },
   "outputs": [
    {
     "name": "stdout",
     "output_type": "stream",
     "text": [
      "   month_number  facecream  facewash  toothpaste  bathingsoap  shampoo  \\\n",
      "0             1       2500      1500        5200         9200     1200   \n",
      "1             2       2630      1200        5100         6100     2100   \n",
      "2             3       2140      1340        4550         9550     3550   \n",
      "3             4       3400      1130        5870         8870     1870   \n",
      "4             5       3600      1740        4560         7760     1560   \n",
      "\n",
      "   moisturizer  total_units  total_profit  \n",
      "0         1500        21100        211000  \n",
      "1         1200        18330        183300  \n",
      "2         1340        22470        224700  \n",
      "3         1130        22270        222700  \n",
      "4         1740        20960        209600  \n"
     ]
    }
   ],
   "source": [
    "print(company_sales.head())"
   ]
  },
  {
   "cell_type": "code",
   "execution_count": 2,
   "metadata": {},
   "outputs": [
    {
     "data": {
      "text/html": [
       "<div>\n",
       "<style scoped>\n",
       "    .dataframe tbody tr th:only-of-type {\n",
       "        vertical-align: middle;\n",
       "    }\n",
       "\n",
       "    .dataframe tbody tr th {\n",
       "        vertical-align: top;\n",
       "    }\n",
       "\n",
       "    .dataframe thead th {\n",
       "        text-align: right;\n",
       "    }\n",
       "</style>\n",
       "<table border=\"1\" class=\"dataframe\">\n",
       "  <thead>\n",
       "    <tr style=\"text-align: right;\">\n",
       "      <th></th>\n",
       "      <th>month_number</th>\n",
       "      <th>bathingsoap</th>\n",
       "    </tr>\n",
       "  </thead>\n",
       "  <tbody>\n",
       "    <tr>\n",
       "      <th>0</th>\n",
       "      <td>1</td>\n",
       "      <td>9200</td>\n",
       "    </tr>\n",
       "    <tr>\n",
       "      <th>1</th>\n",
       "      <td>2</td>\n",
       "      <td>6100</td>\n",
       "    </tr>\n",
       "    <tr>\n",
       "      <th>2</th>\n",
       "      <td>3</td>\n",
       "      <td>9550</td>\n",
       "    </tr>\n",
       "    <tr>\n",
       "      <th>3</th>\n",
       "      <td>4</td>\n",
       "      <td>8870</td>\n",
       "    </tr>\n",
       "    <tr>\n",
       "      <th>4</th>\n",
       "      <td>5</td>\n",
       "      <td>7760</td>\n",
       "    </tr>\n",
       "    <tr>\n",
       "      <th>5</th>\n",
       "      <td>6</td>\n",
       "      <td>7490</td>\n",
       "    </tr>\n",
       "    <tr>\n",
       "      <th>6</th>\n",
       "      <td>7</td>\n",
       "      <td>8980</td>\n",
       "    </tr>\n",
       "    <tr>\n",
       "      <th>7</th>\n",
       "      <td>8</td>\n",
       "      <td>9960</td>\n",
       "    </tr>\n",
       "    <tr>\n",
       "      <th>8</th>\n",
       "      <td>9</td>\n",
       "      <td>8100</td>\n",
       "    </tr>\n",
       "    <tr>\n",
       "      <th>9</th>\n",
       "      <td>10</td>\n",
       "      <td>10300</td>\n",
       "    </tr>\n",
       "    <tr>\n",
       "      <th>10</th>\n",
       "      <td>11</td>\n",
       "      <td>13300</td>\n",
       "    </tr>\n",
       "    <tr>\n",
       "      <th>11</th>\n",
       "      <td>12</td>\n",
       "      <td>14400</td>\n",
       "    </tr>\n",
       "  </tbody>\n",
       "</table>\n",
       "</div>"
      ],
      "text/plain": [
       "    month_number  bathingsoap\n",
       "0              1         9200\n",
       "1              2         6100\n",
       "2              3         9550\n",
       "3              4         8870\n",
       "4              5         7760\n",
       "5              6         7490\n",
       "6              7         8980\n",
       "7              8         9960\n",
       "8              9         8100\n",
       "9             10        10300\n",
       "10            11        13300\n",
       "11            12        14400"
      ]
     },
     "execution_count": 2,
     "metadata": {},
     "output_type": "execute_result"
    }
   ],
   "source": [
    "import pandas as pd\n",
    "company_sales=pd.read_csv(\"company_sales_data.csv\")\n",
    "sales_data_bathingsoap=company_sales[[\"month_number\",\"bathingsoap\"]]\n",
    "sales_data_bathingsoap"
   ]
  },
  {
   "cell_type": "code",
   "execution_count": 4,
   "metadata": {},
   "outputs": [
    {
     "data": {
      "image/png": "[encoded data removed]",
      "text/plain": [
       "<Figure size 432x288 with 1 Axes>"
      ]
     },
     "metadata": {
      "needs_background": "light"
     },
     "output_type": "display_data"
    }
   ],
   "source": [
    "import matplotlib.pyplot as plt\n",
    "bs=sales_data_bathingsoap.plot(x=\"month_number\",y=\"bathingsoap\",kind=\"bar\",title=\"Bathing Soap sale Data\")\n",
    "bs.set_xlabel(\"Month Number\")\n",
    "bs.set_ylabel(\"Sale in No\")\n",
    "plt.show()"
   ]
  },
  {
   "cell_type": "markdown",
   "metadata": {},
   "source": [
    "C) Pie Chart "
   ]
  },
  {
   "cell_type": "markdown",
   "metadata": {},
   "source": [
    "3. Calculate total sale data for last year for each product and show it using a Pie chart\n",
    " \n",
    " Title = Sales Data \n",
    " \n",
    " note :- Use following labels = ['FaceCream', 'FaseWash', 'ToothPaste', 'Bathing soap', 'Shampoo', 'Moisturizer']-(5 Marks)"
   ]
  },
  {
   "cell_type": "code",
   "execution_count": 5,
   "metadata": {},
   "outputs": [
    {
     "name": "stdout",
     "output_type": "stream",
     "text": [
      "   month_number  facecream  facewash  toothpaste  bathingsoap  shampoo  \\\n",
      "0             1       2500      1500        5200         9200     1200   \n",
      "1             2       2630      1200        5100         6100     2100   \n",
      "2             3       2140      1340        4550         9550     3550   \n",
      "3             4       3400      1130        5870         8870     1870   \n",
      "4             5       3600      1740        4560         7760     1560   \n",
      "\n",
      "   moisturizer  total_units  total_profit  \n",
      "0         1500        21100        211000  \n",
      "1         1200        18330        183300  \n",
      "2         1340        22470        224700  \n",
      "3         1130        22270        222700  \n",
      "4         1740        20960        209600  \n"
     ]
    }
   ],
   "source": [
    "print(company_sales.head())"
   ]
  },
  {
   "cell_type": "markdown",
   "metadata": {},
   "source": [
    "# END"
   ]
  }
 ],
 "metadata": {
  "kernelspec": {
   "display_name": "Python 3",
   "language": "python",
   "name": "python3"
  },
  "language_info": {
   "codemirror_mode": {
    "name": "ipython",
    "version": 3
   },
   "file_extension": ".py",
   "mimetype": "text/x-python",
   "name": "python",
   "nbconvert_exporter": "python",
   "pygments_lexer": "ipython3",
   "version": "3.7.6"
  }
 },
 "nbformat": 4,
 "nbformat_minor": 2
}
